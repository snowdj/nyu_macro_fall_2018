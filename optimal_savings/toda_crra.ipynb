{
 "cells": [
  {
   "cell_type": "markdown",
   "metadata": {},
   "source": [
    "## Optimal Savings with Stochastic Financial Returns"
   ]
  },
  {
   "cell_type": "markdown",
   "metadata": {},
   "source": [
    "#### John Stachurski \n",
    "\n",
    "Prepared for the fall semester 2018.\n",
    "\n",
    "Thanks to Natasha Watkins for help putting this together."
   ]
  },
  {
   "cell_type": "code",
   "execution_count": 4,
   "metadata": {},
   "outputs": [],
   "source": [
    "import numpy as np\n",
    "from numba import njit, prange\n",
    "import quantecon as qe\n",
    "import matplotlib.pyplot as plt"
   ]
  },
  {
   "cell_type": "markdown",
   "metadata": {},
   "source": [
    "The code below solves for the optimal savings and consumption rates by first obtaining the fixed point of the operator\n",
    "\n",
    "$$ Sg(z) = \\left\\{ 1 + (Kg(z))^{1/\\gamma} \\right\\}^\\gamma $$"
   ]
  },
  {
   "cell_type": "code",
   "execution_count": 5,
   "metadata": {},
   "outputs": [],
   "source": [
    "z_size = 20  # size of state space"
   ]
  },
  {
   "cell_type": "code",
   "execution_count": 6,
   "metadata": {},
   "outputs": [],
   "source": [
    "class OptimalSavings:\n",
    "    \n",
    "    def __init__(self,\n",
    "                 γ=4,\n",
    "                 β=np.linspace(0.9, 0.96, z_size),\n",
    "                 R=np.linspace(1.05, 1.15, z_size),\n",
    "                 mc=qe.tauchen(0.95, 0.1, n=z_size)):\n",
    "\n",
    "        self.γ = γ\n",
    "        self.β = β\n",
    "        self.R = R\n",
    "        self.mc = mc\n",
    "        \n",
    "        Π = self.mc.P\n",
    "        self.K = β * R**(1 - γ) * Π\n",
    "\n",
    "        r_K = max(abs(np.linalg.eigvals(self.K)))\n",
    "        print(f'Spectral radius is {r_K}\\n')\n",
    "\n",
    "        if r_K >= 1:\n",
    "            raise ValueError('Spectral radius not less than one')"
   ]
  },
  {
   "cell_type": "code",
   "execution_count": 7,
   "metadata": {},
   "outputs": [],
   "source": [
    "def S_factory(op):\n",
    "    \"\"\"\n",
    "    Here `op` is an instance of OptimalSavings\n",
    "    \n",
    "    \"\"\"\n",
    "    γ = op.γ\n",
    "    K = op.K\n",
    "    \n",
    "    @njit\n",
    "    def S(g):\n",
    "        return (1 + (K @ g)**(1 / γ))**γ\n",
    "    \n",
    "    return S"
   ]
  },
  {
   "cell_type": "code",
   "execution_count": 8,
   "metadata": {},
   "outputs": [],
   "source": [
    "def solve_model(op,\n",
    "                use_parallel=True,\n",
    "                tol=1e-4,\n",
    "                max_iter=1000,\n",
    "                verbose=True,\n",
    "                print_skip=25):\n",
    "    \n",
    "    S = S_factory(op)\n",
    "\n",
    "    # Set up loop\n",
    "    i = 0\n",
    "    error = tol + 1\n",
    "\n",
    "    # Initialize g\n",
    "    g = np.ones(z_size)\n",
    "\n",
    "    while i < max_iter and error > tol:\n",
    "        g_new = S(g)\n",
    "        error = np.max(np.abs(g - g_new))\n",
    "        i += 1\n",
    "        if verbose and i % print_skip == 0:\n",
    "            print(f\"Error at iteration {i} is {error}.\")\n",
    "        g[:] = g_new\n",
    "\n",
    "    if i == max_iter:\n",
    "        print(\"Failed to converge!\")\n",
    "\n",
    "    if verbose and i < max_iter:\n",
    "        print(f\"\\nConverged in {i} iterations.\")\n",
    "\n",
    "    return g_new"
   ]
  },
  {
   "cell_type": "markdown",
   "metadata": {},
   "source": [
    "Let's solve the model and see in particular how the parameters affect the state contingent savings rate, which is\n",
    "\n",
    "$$ 1 - g^*(z)^{-1/\\gamma} $$"
   ]
  },
  {
   "cell_type": "code",
   "execution_count": 9,
   "metadata": {},
   "outputs": [
    {
     "name": "stdout",
     "output_type": "stream",
     "text": [
      "Spectral radius is 0.7154363875415961\n",
      "\n",
      "Spectral radius is 0.6438927487874369\n",
      "\n",
      "Error at iteration 25 is 1104.584903146846.\n",
      "Error at iteration 50 is 202.83508007034834.\n",
      "Error at iteration 75 is 25.58057464905869.\n",
      "Error at iteration 100 is 3.072077351695043.\n",
      "Error at iteration 125 is 0.36624615878099576.\n",
      "Error at iteration 150 is 0.04360801046277629.\n",
      "Error at iteration 175 is 0.005190996147575788.\n",
      "Error at iteration 200 is 0.0006178897165227681.\n",
      "\n",
      "Converged in 222 iterations.\n",
      "Error at iteration 25 is 306.38461814922994.\n",
      "Error at iteration 50 is 24.311201606284158.\n",
      "Error at iteration 75 is 1.5277156051452039.\n",
      "Error at iteration 100 is 0.09380224678534432.\n",
      "Error at iteration 125 is 0.005738016423492809.\n",
      "Error at iteration 150 is 0.0003507113378873328.\n",
      "\n",
      "Converged in 162 iterations.\n"
     ]
    }
   ],
   "source": [
    "op_1 = OptimalSavings()\n",
    "op_2 = OptimalSavings(β=op_1.β * 0.9)\n",
    "\n",
    "g_star_1 = solve_model(op_1)\n",
    "g_star_2 = solve_model(op_2)"
   ]
  },
  {
   "cell_type": "code",
   "execution_count": 10,
   "metadata": {},
   "outputs": [
    {
     "data": {
      "image/png": "[encoded data removed]",
      "text/plain": [
       "<Figure size 432x288 with 1 Axes>"
      ]
     },
     "metadata": {},
     "output_type": "display_data"
    }
   ],
   "source": [
    "fig, ax = plt.subplots()\n",
    "\n",
    "ax.plot(range(z_size), (1 - (g_star_1)**(-1/op_1.γ)), \n",
    "        label=\"high $\\\\beta$\")\n",
    "ax.plot(range(z_size), (1 - (g_star_2)**(-1/op_2.γ)), \n",
    "        label=\"low $\\\\beta$\")\n",
    "\n",
    "ax.set_xlabel(\"$z$\")\n",
    "ax.set_ylabel(\"savings rate\")\n",
    "\n",
    "ax.legend()\n",
    "plt.show()"
   ]
  },
  {
   "cell_type": "markdown",
   "metadata": {},
   "source": [
    "Now let's try with the interest rate."
   ]
  },
  {
   "cell_type": "code",
   "execution_count": 11,
   "metadata": {},
   "outputs": [
    {
     "name": "stdout",
     "output_type": "stream",
     "text": [
      "Spectral radius is 0.7154363875415961\n",
      "\n",
      "Spectral radius is 0.8344497886474358\n",
      "\n",
      "Error at iteration 25 is 1104.584903146846.\n",
      "Error at iteration 50 is 202.83508007034834.\n",
      "Error at iteration 75 is 25.58057464905869.\n",
      "Error at iteration 100 is 3.072077351695043.\n",
      "Error at iteration 125 is 0.36624615878099576.\n",
      "Error at iteration 150 is 0.04360801046277629.\n",
      "Error at iteration 175 is 0.005190996147575788.\n",
      "Error at iteration 200 is 0.0006178897165227681.\n",
      "\n",
      "Converged in 222 iterations.\n",
      "Error at iteration 25 is 8527.396701902107.\n",
      "Error at iteration 50 is 6967.974429636553.\n",
      "Error at iteration 75 is 2840.624110790435.\n",
      "Error at iteration 100 is 969.6588715630933.\n",
      "Error at iteration 125 is 314.1662402781076.\n",
      "Error at iteration 150 is 100.17206293356139.\n",
      "Error at iteration 175 is 31.78101348137716.\n",
      "Error at iteration 200 is 10.067230146320071.\n",
      "Error at iteration 225 is 3.1874166965135373.\n",
      "Error at iteration 250 is 1.009021653328091.\n",
      "Error at iteration 275 is 0.31940443464554846.\n",
      "Error at iteration 300 is 0.10110548365628347.\n",
      "Error at iteration 325 is 0.03200415556784719.\n",
      "Error at iteration 350 is 0.010130651120562106.\n",
      "Error at iteration 375 is 0.003206772613339126.\n",
      "Error at iteration 400 is 0.001015076762996614.\n",
      "Error at iteration 425 is 0.00032131391344591975.\n",
      "Error at iteration 450 is 0.00010170903988182545.\n",
      "\n",
      "Converged in 451 iterations.\n"
     ]
    }
   ],
   "source": [
    "op_1 = OptimalSavings()\n",
    "op_2 = OptimalSavings(R=op_1.R * 0.95)\n",
    "\n",
    "g_star_1 = solve_model(op_1)\n",
    "g_star_2 = solve_model(op_2)"
   ]
  },
  {
   "cell_type": "code",
   "execution_count": 12,
   "metadata": {},
   "outputs": [
    {
     "data": {
      "image/png": "[encoded data removed]",
      "text/plain": [
       "<Figure size 432x288 with 1 Axes>"
      ]
     },
     "metadata": {},
     "output_type": "display_data"
    }
   ],
   "source": [
    "fig, ax = plt.subplots()\n",
    "\n",
    "ax.plot(range(z_size), (1 - (g_star_1)**(-1/op_1.γ)), \n",
    "        label=\"high $R$\")\n",
    "ax.plot(range(z_size), (1 - (g_star_2)**(-1/op_2.γ)), \n",
    "        label=\"low $R$\")\n",
    "\n",
    "ax.set_xlabel(\"$z$\")\n",
    "ax.set_ylabel(\"savings rate\")\n",
    "\n",
    "ax.legend()\n",
    "plt.show()"
   ]
  },
  {
   "cell_type": "markdown",
   "metadata": {},
   "source": [
    "Now let's see what happens in the last exercise if $\\gamma$ is a smaller number."
   ]
  },
  {
   "cell_type": "code",
   "execution_count": 13,
   "metadata": {},
   "outputs": [
    {
     "name": "stdout",
     "output_type": "stream",
     "text": [
      "Spectral radius is 0.9817880675015813\n",
      "\n",
      "Spectral radius is 0.9569286384125347\n",
      "\n",
      "Error at iteration 25 is 0.10939053068125215.\n",
      "Error at iteration 50 is 0.044445013716073234.\n",
      "Error at iteration 75 is 0.017980448973453633.\n",
      "Error at iteration 100 is 0.007362855078422825.\n",
      "Error at iteration 125 is 0.003043374285336853.\n",
      "Error at iteration 150 is 0.0012642687681339027.\n",
      "Error at iteration 175 is 0.0005264397738962145.\n",
      "Error at iteration 200 is 0.00021943908838295556.\n",
      "\n",
      "Converged in 223 iterations.\n",
      "Error at iteration 25 is 0.040711350108816546.\n",
      "Error at iteration 50 is 0.005589487898059353.\n",
      "Error at iteration 75 is 0.0007084105533428087.\n",
      "\n",
      "Converged in 99 iterations.\n"
     ]
    }
   ],
   "source": [
    "op_1 = OptimalSavings(γ=0.5)\n",
    "op_2 = OptimalSavings(R=op_1.R * 0.95, γ=0.5)\n",
    "\n",
    "g_star_1 = solve_model(op_1)\n",
    "g_star_2 = solve_model(op_2)"
   ]
  },
  {
   "cell_type": "code",
   "execution_count": 14,
   "metadata": {},
   "outputs": [
    {
     "data": {
      "image/png": "[encoded data removed]",
      "text/plain": [
       "<Figure size 432x288 with 1 Axes>"
      ]
     },
     "metadata": {},
     "output_type": "display_data"
    }
   ],
   "source": [
    "fig, ax = plt.subplots()\n",
    "\n",
    "ax.plot(range(z_size), (1 - (g_star_1)**(-1/op_1.γ)), \n",
    "        label=\"high $R$\")\n",
    "ax.plot(range(z_size), (1 - (g_star_2)**(-1/op_2.γ)), \n",
    "        label=\"low $R$\")\n",
    "\n",
    "ax.set_xlabel(\"$z$\")\n",
    "ax.set_ylabel(\"savings rate\")\n",
    "\n",
    "\n",
    "ax.legend()\n",
    "plt.show()"
   ]
  },
  {
   "cell_type": "code",
   "execution_count": null,
   "metadata": {},
   "outputs": [],
   "source": []
  }
 ],
 "metadata": {
  "kernelspec": {
   "display_name": "Python 3",
   "language": "python",
   "name": "python3"
  },
  "language_info": {
   "codemirror_mode": {
    "name": "ipython",
    "version": 3
   },
   "file_extension": ".py",
   "mimetype": "text/x-python",
   "name": "python",
   "nbconvert_exporter": "python",
   "pygments_lexer": "ipython3",
   "version": "3.6.5"
  }
 },
 "nbformat": 4,
 "nbformat_minor": 2
}
