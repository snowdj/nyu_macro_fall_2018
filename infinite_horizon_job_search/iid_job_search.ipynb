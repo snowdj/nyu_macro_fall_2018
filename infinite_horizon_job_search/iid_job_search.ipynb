{
 "cells": [
  {
   "cell_type": "markdown",
   "metadata": {},
   "source": [
    "# Job Search: The Case of IID Offers"
   ]
  },
  {
   "cell_type": "markdown",
   "metadata": {},
   "source": [
    "Fall semester 2018\n",
    "\n",
    "#### John Stachurski\n",
    "\n",
    "First some imports and LaTeX related commands."
   ]
  },
  {
   "cell_type": "code",
   "execution_count": 1,
   "metadata": {},
   "outputs": [],
   "source": [
    "import numpy as np\n",
    "import matplotlib.pyplot as plt\n",
    "from scipy.stats import binom\n",
    "from numba import njit, vectorize"
   ]
  },
  {
   "cell_type": "code",
   "execution_count": 2,
   "metadata": {},
   "outputs": [],
   "source": [
    "from matplotlib import rc\n",
    "#rc('font',**{'family':'sans-serif','sans-serif':['Helvetica']})\n",
    "rc('text', usetex=True)"
   ]
  },
  {
   "cell_type": "code",
   "execution_count": 3,
   "metadata": {},
   "outputs": [],
   "source": [
    "n, p = 40, 0.5\n",
    "pmf = binom.pmf(range(n), n, p)"
   ]
  },
  {
   "cell_type": "markdown",
   "metadata": {},
   "source": [
    "A class to store primitives and a guess of the value function."
   ]
  },
  {
   "cell_type": "code",
   "execution_count": 4,
   "metadata": {},
   "outputs": [],
   "source": [
    "class JobSearchDiscrete:\n",
    "    \n",
    "    def __init__(self, \n",
    "                 wage_vals=np.arange(n),   # possible wage values\n",
    "                 wage_probs=pmf,  # pmf for wages\n",
    "                 β=0.96,        # discount factor\n",
    "                 c=10):          # unemployment compensation\n",
    "        \n",
    "        self.wage_vals = wage_vals\n",
    "        self.wage_probs = wage_probs\n",
    "        self.β, self.c = β, c\n",
    "        \n",
    "        self.v_guess = np.ones_like(wage_vals)"
   ]
  },
  {
   "cell_type": "markdown",
   "metadata": {},
   "source": [
    "A function factory that builds a jitted Bellman operator."
   ]
  },
  {
   "cell_type": "code",
   "execution_count": 5,
   "metadata": {},
   "outputs": [],
   "source": [
    "def bellman_operator_factory(jsd):\n",
    "    \n",
    "    wage_vals, wage_probs = jsd.wage_vals, jsd.wage_probs\n",
    "    β, c = jsd.β, jsd.c\n",
    "    \n",
    "    @njit\n",
    "    def bellman(v):\n",
    "        new_v = np.empty_like(v)\n",
    "        for i, w in enumerate(wage_vals):\n",
    "            stop_val = w / (1 - β)\n",
    "            continue_val = c + β * v @ wage_probs\n",
    "            new_v[i] = max(stop_val, continue_val)\n",
    "        return new_v\n",
    "            \n",
    "    return bellman"
   ]
  },
  {
   "cell_type": "markdown",
   "metadata": {},
   "source": [
    "Some tests."
   ]
  },
  {
   "cell_type": "code",
   "execution_count": 6,
   "metadata": {},
   "outputs": [
    {
     "data": {
      "image/png": "[encoded data removed]",
      "text/plain": [
       "<Figure size 432x288 with 1 Axes>"
      ]
     },
     "metadata": {},
     "output_type": "display_data"
    }
   ],
   "source": [
    "jsd = JobSearchDiscrete()\n",
    "\n",
    "v = jsd.v_guess * 100\n",
    "T = bellman_operator_factory(jsd)\n",
    "\n",
    "fig, ax = plt.subplots()\n",
    "\n",
    "k = 3\n",
    "for i in range(k):\n",
    "    ax.plot(jsd.wage_vals, v, lw=1, label=f\"n = {i}\")\n",
    "    v = T(v)\n",
    "\n",
    "for i in range(100-k):\n",
    "    v = T(v)\n",
    "ax.plot(jsd.wage_vals, v, 'k-', lw=2.0, label=f\"n = 100\")\n",
    "\n",
    "ax.set_ylim((0, 1000))\n",
    "\n",
    "ax.set_xlabel(\"wage offer\")\n",
    "ax.set_ylabel(\"lifetime value\")\n",
    "\n",
    "ax.legend()\n",
    "\n",
    "plt.show()"
   ]
  },
  {
   "cell_type": "code",
   "execution_count": 7,
   "metadata": {},
   "outputs": [
    {
     "data": {
      "image/png": "[encoded data removed]",
      "text/plain": [
       "<Figure size 432x288 with 1 Axes>"
      ]
     },
     "metadata": {},
     "output_type": "display_data"
    }
   ],
   "source": [
    "jsd = JobSearchDiscrete()\n",
    "\n",
    "v = 1000 - 25 * jsd.wage_vals\n",
    "T = bellman_operator_factory(jsd)\n",
    "\n",
    "fig, ax = plt.subplots()\n",
    "\n",
    "k = 3\n",
    "for i in range(k):\n",
    "    ax.plot(jsd.wage_vals, v, lw=1, label=f\"n = {i}\")\n",
    "    v = T(v)\n",
    "\n",
    "for i in range(100-k):\n",
    "    v = T(v)\n",
    "ax.plot(jsd.wage_vals, v, 'k-', lw=2.0, label=f\"n = 100\")\n",
    "\n",
    "ax.set_ylim((0, 1000))\n",
    "\n",
    "ax.set_xlabel(\"wage offer\")\n",
    "ax.set_ylabel(\"lifetime value\")\n",
    "\n",
    "ax.legend()\n",
    "\n",
    "plt.show()"
   ]
  },
  {
   "cell_type": "markdown",
   "metadata": {},
   "source": [
    "#### Computing the fixed point"
   ]
  },
  {
   "cell_type": "code",
   "execution_count": 8,
   "metadata": {},
   "outputs": [],
   "source": [
    "def iterate(jsd, iter_max=500, tol=1e-6):\n",
    "    \n",
    "    T = bellman_operator_factory(jsd)\n",
    "    v = jsd.v_guess\n",
    "    \n",
    "    i = 1\n",
    "    error = tol + 1\n",
    "    while error > tol and i <= iter_max:\n",
    "        new_v = T(v)\n",
    "        error = np.max(np.abs(new_v - v))\n",
    "        i += 1\n",
    "        v = new_v\n",
    "        \n",
    "    if i == iter_max:\n",
    "        print(\"Warning: iteration hit upper bound\")\n",
    "    else:\n",
    "        print(f\"Converged in {i} iterations\")\n",
    "        \n",
    "    return v\n",
    "    "
   ]
  },
  {
   "cell_type": "code",
   "execution_count": 9,
   "metadata": {},
   "outputs": [],
   "source": [
    "jsd = JobSearchDiscrete()"
   ]
  },
  {
   "cell_type": "code",
   "execution_count": 10,
   "metadata": {},
   "outputs": [
    {
     "name": "stdout",
     "output_type": "stream",
     "text": [
      "Converged in 13 iterations\n"
     ]
    }
   ],
   "source": [
    "v_star = iterate(jsd)"
   ]
  },
  {
   "cell_type": "code",
   "execution_count": 11,
   "metadata": {},
   "outputs": [
    {
     "data": {
      "image/png": "[encoded data removed]",
      "text/plain": [
       "<Figure size 432x288 with 1 Axes>"
      ]
     },
     "metadata": {},
     "output_type": "display_data"
    }
   ],
   "source": [
    "fig, ax = plt.subplots()\n",
    "\n",
    "ax.plot(jsd.wage_vals, v_star, 'k-', lw=2.0, label=\"value function\")\n",
    "\n",
    "cont_val = jsd.c + jsd.β * v_star @ jsd.wage_probs\n",
    "\n",
    "ax.plot(jsd.wage_vals, \n",
    "        cont_val * np.ones(n), \n",
    "        '-o', \n",
    "        alpha=0.3,\n",
    "        label=\"continuation value\")\n",
    "\n",
    "ax.plot(jsd.wage_vals,\n",
    "        jsd.wage_vals / (1 - jsd.β),\n",
    "        '-o',\n",
    "        alpha=0.3,\n",
    "        label=\"$w/(1 - \\\\beta)$\")\n",
    "\n",
    "ax.set_ylim(0, v_star.max())\n",
    "ax.legend()\n",
    "\n",
    "plt.show()"
   ]
  },
  {
   "cell_type": "code",
   "execution_count": 12,
   "metadata": {},
   "outputs": [],
   "source": [
    "jsd = JobSearchDiscrete()\n",
    "wage_vals, wage_probs = jsd.wage_vals, jsd.wage_probs\n",
    "β, c = jsd.β, jsd.c"
   ]
  },
  {
   "cell_type": "markdown",
   "metadata": {},
   "source": [
    "### Rearranging the Bellman operator\n",
    "\n",
    "Here's an implementation of the second approach, which avoids direct calculation of the value function."
   ]
  },
  {
   "cell_type": "code",
   "execution_count": null,
   "metadata": {},
   "outputs": [],
   "source": [
    "@vectorize\n",
    "def g(h):\n",
    "    e = np.maximum(wage_vals / (1 - β), h)   \n",
    "    return c + β * e @ wage_probs"
   ]
  },
  {
   "cell_type": "markdown",
   "metadata": {},
   "source": [
    "Let's have a look at the function $g$."
   ]
  },
  {
   "cell_type": "code",
   "execution_count": 18,
   "metadata": {},
   "outputs": [
    {
     "data": {
      "image/png": "[encoded data removed]",
      "text/plain": [
       "<Figure size 576x504 with 1 Axes>"
      ]
     },
     "metadata": {},
     "output_type": "display_data"
    }
   ],
   "source": [
    "h_grid = np.linspace(0, max(c, n) / (1 - β), 100)\n",
    "\n",
    "fig, ax = plt.subplots(figsize=(8, 7))\n",
    "ax.plot(h_grid, g(h_grid), lw=2.0, label=\"$g$\")\n",
    "ax.plot(h_grid, h_grid, 'k--', lw=1.0, label=\"45\")\n",
    "\n",
    "ax.legend(fontsize=12)\n",
    "\n",
    "\n",
    "hs = 100\n",
    "for i in range(100):\n",
    "    hs = g(hs)\n",
    "ax.plot(hs, hs, 'go', ms=10, alpha=0.6)\n",
    "\n",
    "ax.annotate(r'$h^*$', \n",
    "         xy=(hs, hs),\n",
    "         xycoords='data',\n",
    "         xytext=(-80, 80),\n",
    "         textcoords='offset points',\n",
    "         fontsize=16,\n",
    "         arrowprops=dict(arrowstyle=\"->\"))\n",
    "\n",
    "plt.show()"
   ]
  },
  {
   "cell_type": "markdown",
   "metadata": {},
   "source": [
    "Here's the continuation value and the fixed point."
   ]
  },
  {
   "cell_type": "code",
   "execution_count": 25,
   "metadata": {},
   "outputs": [
    {
     "data": {
      "text/plain": [
       "549.894197499972"
      ]
     },
     "execution_count": 25,
     "metadata": {},
     "output_type": "execute_result"
    }
   ],
   "source": [
    "hs"
   ]
  },
  {
   "cell_type": "code",
   "execution_count": 26,
   "metadata": {},
   "outputs": [],
   "source": [
    "w_star = hs * (1 - β)"
   ]
  },
  {
   "cell_type": "code",
   "execution_count": 27,
   "metadata": {},
   "outputs": [
    {
     "data": {
      "text/plain": [
       "21.995767899998903"
      ]
     },
     "execution_count": 27,
     "metadata": {},
     "output_type": "execute_result"
    }
   ],
   "source": [
    "w_star"
   ]
  },
  {
   "cell_type": "markdown",
   "metadata": {},
   "source": [
    "Let's recreate the value function from our knowledge of the continuation value."
   ]
  },
  {
   "cell_type": "code",
   "execution_count": 29,
   "metadata": {},
   "outputs": [
    {
     "data": {
      "image/png": "[encoded data removed]",
      "text/plain": [
       "<Figure size 432x288 with 1 Axes>"
      ]
     },
     "metadata": {},
     "output_type": "display_data"
    }
   ],
   "source": [
    "fig, ax = plt.subplots()\n",
    "\n",
    "vhat = np.maximum(wage_vals / (1 - β), hs)\n",
    "\n",
    "ax.plot(wage_vals, vhat, 'k-', lw=2.0, label=\"value function\")\n",
    "ax.set_ylim(0, v_star.max())\n",
    "ax.legend()\n",
    "\n",
    "plt.show()"
   ]
  },
  {
   "cell_type": "code",
   "execution_count": null,
   "metadata": {},
   "outputs": [],
   "source": []
  }
 ],
 "metadata": {
  "kernelspec": {
   "display_name": "Python 3",
   "language": "python",
   "name": "python3"
  },
  "language_info": {
   "codemirror_mode": {
    "name": "ipython",
    "version": 3
   },
   "file_extension": ".py",
   "mimetype": "text/x-python",
   "name": "python",
   "nbconvert_exporter": "python",
   "pygments_lexer": "ipython3",
   "version": "3.6.5"
  }
 },
 "nbformat": 4,
 "nbformat_minor": 2
}
